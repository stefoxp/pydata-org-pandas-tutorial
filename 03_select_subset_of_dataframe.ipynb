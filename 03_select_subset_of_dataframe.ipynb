{
  "nbformat": 4,
  "nbformat_minor": 0,
  "metadata": {
    "colab": {
      "name": "03_select_subset_of_dataframe.ipynb",
      "provenance": [],
      "authorship_tag": "ABX9TyORMHrBFtNG/5G1qM/Adr6h",
      "include_colab_link": true
    },
    "kernelspec": {
      "name": "python3",
      "display_name": "Python 3"
    },
    "language_info": {
      "name": "python"
    }
  },
  "cells": [
    {
      "cell_type": "markdown",
      "metadata": {
        "id": "view-in-github",
        "colab_type": "text"
      },
      "source": [
        "<a href=\"https://colab.research.google.com/github/stefoxp/pydata-org-pandas-tutorial/blob/main/03_select_subset_of_dataframe.ipynb\" target=\"_parent\"><img src=\"https://colab.research.google.com/assets/colab-badge.svg\" alt=\"Open In Colab\"/></a>"
      ]
    },
    {
      "cell_type": "markdown",
      "metadata": {
        "id": "ZtWCzbb_m5Ti"
      },
      "source": [
        "# How do I select a subset of a DataFrame?"
      ]
    },
    {
      "cell_type": "code",
      "metadata": {
        "id": "Km26XGtxm0LP"
      },
      "source": [
        ""
      ],
      "execution_count": null,
      "outputs": []
    }
  ]
}